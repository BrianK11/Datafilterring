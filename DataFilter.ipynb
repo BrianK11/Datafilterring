{
 "cells": [
  {
   "cell_type": "code",
   "execution_count": 1,
   "metadata": {},
   "outputs": [],
   "source": [
    "import pandas as pd\n",
    "import numpy as np\n",
    "import matplotlib.pyplot as plt"
   ]
  },
  {
   "cell_type": "markdown",
   "metadata": {},
   "source": [
    "# Definer variabler der bruges til at filtrere data med."
   ]
  },
  {
   "cell_type": "code",
   "execution_count": 2,
   "metadata": {},
   "outputs": [],
   "source": [
    "NB = pd.to_datetime('01-01-2023') #indflytningsdato for NordBlok NB\n",
    "\n",
    "MA = 10 #Maksimal alder i år ved indflytningen\n",
    "\n",
    "NBMA = pd.to_datetime('01-01-' + str(NB.year - MA)) #dato for hvornår udstyr der kan flyttes i NordBlokken\n",
    "#NBMA = NB.year - MA \n",
    "\n",
    "BG = 5000 #BagatelGrænse for pris\n",
    "\n",
    "EJER = 'Bispebjerg og Frederiksberg Hospital'\n",
    "#EJER = 'Nordsjællands Hospital'\n",
    "#print(NBMA)\n",
    "FilterInput = pd.DataFrame({'Filter funktion':['Ejer', 'Indflytnings dato', 'Maksimal alder [år]','Maksimal alder [dato]', 'Bagatelgrænse i kr', 'Ekskluderede grupper'],\n",
    "                           'Værdi': [EJER, NB, MA, NBMA, BG, 'nan']})"
   ]
  },
  {
   "cell_type": "markdown",
   "metadata": {},
   "source": [
    "# Læs data"
   ]
  },
  {
   "cell_type": "code",
   "execution_count": 3,
   "metadata": {},
   "outputs": [],
   "source": [
    "filename = 'BBH+FRH 19-03-20.xlsx' #'BBH+FRH 01-07-19.xlsx'\n",
    "#filename = 'myxls.xlsx'\n",
    "\n",
    "df = pd.read_excel(filename, sheet_name='Data') # Medusa udtræk\n",
    "\n",
    "gz = pd.read_excel(filename, sheet_name='Gråzone') # Gråzone udstyr\n",
    "\n",
    "xmd = pd.read_excel(filename, sheet_name='Xmodel') # Ekskluderete modeller"
   ]
  },
  {
   "cell_type": "code",
   "execution_count": 8,
   "metadata": {},
   "outputs": [
    {
     "data": {
      "text/html": [
       "<div>\n",
       "<style scoped>\n",
       "    .dataframe tbody tr th:only-of-type {\n",
       "        vertical-align: middle;\n",
       "    }\n",
       "\n",
       "    .dataframe tbody tr th {\n",
       "        vertical-align: top;\n",
       "    }\n",
       "\n",
       "    .dataframe thead th {\n",
       "        text-align: right;\n",
       "    }\n",
       "</style>\n",
       "<table border=\"1\" class=\"dataframe\">\n",
       "  <thead>\n",
       "    <tr style=\"text-align: right;\">\n",
       "      <th></th>\n",
       "      <th>Antal</th>\n",
       "    </tr>\n",
       "  </thead>\n",
       "  <tbody>\n",
       "    <tr>\n",
       "      <th>count</th>\n",
       "      <td>488.000000</td>\n",
       "    </tr>\n",
       "    <tr>\n",
       "      <th>mean</th>\n",
       "      <td>19.272541</td>\n",
       "    </tr>\n",
       "    <tr>\n",
       "      <th>std</th>\n",
       "      <td>60.982220</td>\n",
       "    </tr>\n",
       "    <tr>\n",
       "      <th>min</th>\n",
       "      <td>1.000000</td>\n",
       "    </tr>\n",
       "    <tr>\n",
       "      <th>25%</th>\n",
       "      <td>1.000000</td>\n",
       "    </tr>\n",
       "    <tr>\n",
       "      <th>50%</th>\n",
       "      <td>3.000000</td>\n",
       "    </tr>\n",
       "    <tr>\n",
       "      <th>75%</th>\n",
       "      <td>11.000000</td>\n",
       "    </tr>\n",
       "    <tr>\n",
       "      <th>max</th>\n",
       "      <td>710.000000</td>\n",
       "    </tr>\n",
       "  </tbody>\n",
       "</table>\n",
       "</div>"
      ],
      "text/plain": [
       "            Antal\n",
       "count  488.000000\n",
       "mean    19.272541\n",
       "std     60.982220\n",
       "min      1.000000\n",
       "25%      1.000000\n",
       "50%      3.000000\n",
       "75%     11.000000\n",
       "max    710.000000"
      ]
     },
     "execution_count": 8,
     "metadata": {},
     "output_type": "execute_result"
    }
   ],
   "source": [
    "#klargør plot af forskellige ting\n",
    "def opgorelse(df, graf=False, xls = False, filNavn ='AntalGrupper.xlsx'):\n",
    "    data = df['Gruppenavn']\n",
    "    data.fillna('#fejl#')\n",
    "   \n",
    "    antal = df['Gruppenavn'].value_counts().to_frame()\n",
    "    antal.reset_index(inplace = True)\n",
    "    antal.rename(columns={\"index\": \"Gruppe\", \"Gruppenavn\": \"Antal\"}, inplace = True)\n",
    "   \n",
    "    if graf:\n",
    "        #%matplotlib notebook\n",
    "        d = antal.loc[antal['Antal'] > 50]\n",
    "        gr = d['Gruppe']\n",
    "        an = d['Antal']\n",
    "        plt.rcdefaults()\n",
    "        fig, ax = plt.subplots()\n",
    "        ax.barh(gr,an)\n",
    "        ax.invert_yaxis()\n",
    "        plt.show()\n",
    "    \n",
    "    if xls:\n",
    "        with pd.ExcelWriter(filNavn) as writer:\n",
    "            antal.to_excel(writer,index = False)\n",
    "    \n",
    "    return antal\n",
    "\n",
    "d = opgorelse(df, xls =True)\n",
    "d.describe()"
   ]
  },
  {
   "cell_type": "code",
   "execution_count": 5,
   "metadata": {},
   "outputs": [],
   "source": [
    "#Tilpasninger\n",
    "df['Indkøbt']= pd.to_datetime(df.Indkøbt)#konverter til datetime som Pandas kan regne på\n",
    "\n",
    "df[\"Pris\"] = df[[\"Indkøbspris\",\"Genansk.pris\"]].max(axis=1)# find den største værdi og sæt det ind i ny kollonde \"Pris\"\n",
    "#df.head()"
   ]
  },
  {
   "cell_type": "markdown",
   "metadata": {},
   "source": [
    "# Så begynder filtereringen"
   ]
  },
  {
   "cell_type": "code",
   "execution_count": 6,
   "metadata": {},
   "outputs": [],
   "source": [
    "x = df['Ejer (overafdeling)'].str.split(\";\", n = 1, expand = True)\n",
    "df[\"Overafdeling\"] =x[0]\n",
    "df[\"Ejer\"] = x[1]"
   ]
  },
  {
   "cell_type": "code",
   "execution_count": 7,
   "metadata": {},
   "outputs": [],
   "source": [
    "fdf = df.loc[df.Ejer.str.contains(EJER)== True] #filterer på Ejer\n",
    "#fdf.head()"
   ]
  },
  {
   "cell_type": "code",
   "execution_count": 8,
   "metadata": {},
   "outputs": [],
   "source": [
    "fdf = fdf.loc[fdf.Indkøbt > NBMA,:] #filtrer på alder\n",
    "#fdf.head()"
   ]
  },
  {
   "cell_type": "code",
   "execution_count": 9,
   "metadata": {},
   "outputs": [],
   "source": [
    "fdf =fdf.loc[fdf.Pris > BG,:] #filtrer på pris\n",
    "#fdf.head()"
   ]
  },
  {
   "cell_type": "code",
   "execution_count": 10,
   "metadata": {},
   "outputs": [],
   "source": [
    "fdf = fdf.loc[~fdf.Gruppenavn.isin(gz.Gruppenavn)] #fjern gråzone udstyr"
   ]
  },
  {
   "cell_type": "code",
   "execution_count": 11,
   "metadata": {},
   "outputs": [],
   "source": [
    "#fdf = fdf.loc[~fdf.Model.isin(xmd.Model),:] # fjern ekskluderede modeller"
   ]
  },
  {
   "cell_type": "code",
   "execution_count": 12,
   "metadata": {},
   "outputs": [],
   "source": [
    "fdf = fdf.drop(['Indkøbspris', 'Genansk.pris', 'Ejer (overafdeling)'], axis=1)"
   ]
  },
  {
   "cell_type": "code",
   "execution_count": 13,
   "metadata": {},
   "outputs": [],
   "source": [
    "cols = fdf.columns.tolist()\n",
    "#print(cols)"
   ]
  },
  {
   "cell_type": "code",
   "execution_count": 14,
   "metadata": {},
   "outputs": [],
   "source": [
    "cols = ['App.nr', 'Gruppenavn', 'Fabrikat', 'Model', 'Serie nr.', 'Indkøbt', 'Pris', 'Overafdeling', 'Afdeling (placering)', 'Afsnit (Placering)', 'Ejer']\n",
    "fdf = fdf[cols]"
   ]
  },
  {
   "cell_type": "code",
   "execution_count": 15,
   "metadata": {},
   "outputs": [],
   "source": [
    "#fdf.info()"
   ]
  },
  {
   "cell_type": "markdown",
   "metadata": {},
   "source": [
    "# Opdeling i afdelinger"
   ]
  },
  {
   "cell_type": "code",
   "execution_count": 20,
   "metadata": {},
   "outputs": [
    {
     "name": "stdout",
     "output_type": "stream",
     "text": [
      "['AMA., Akut modtageafdeling ' 'Abdominalcenter K' 'Anæstesi'\n",
      " 'Audiologisk ambulatorie, ud' 'Center for Klinisk Forsknin'\n",
      " 'Centraloperationsgang, FRH' 'Dermato-Venerologisk Afd. +'\n",
      " 'Endokrinologisk Overafdelin' 'Fysio- og ergoterapiafdelin'\n",
      " 'Fælles for BBH og FRH Hospi' 'Geriatrisk afdeling G'\n",
      " 'Geriatrisk og Palliativ ove' 'IMT-afdeling' 'Institut for idrætsmedicin '\n",
      " 'KVU - Kvalitet og Uddannels' 'Kardiologisk afdeling Y'\n",
      " 'Klinisk Farmakologisk Afdel' 'Klinisk Fysiologisk Afdelin'\n",
      " 'Klinisk biokemisk afdeling' 'Koordinerende Forskningsenh'\n",
      " 'Lungemedicinsk afdeling L' 'Medicinsk og Geriatrisk Ove'\n",
      " 'Neurologisk afd. N' 'Ortopædkirurgisk afd. M'\n",
      " 'Ortopædkirurgisk afdeling O' 'Parkerinstituttet'\n",
      " 'Reumatologisk afdeling H, F' 'Rigshospitalets Udefunktion'\n",
      " 'Røntgenafdeling' 'Tværsektoriel Forskningsenh' 'Udviklingsafdelingen'\n",
      " 'Urologisk afdeling U, FRH' 'Total']\n"
     ]
    }
   ],
   "source": [
    "Afd = pd.unique(fdf['Overafdeling'])\n",
    "Afd.sort()\n",
    "\n",
    "Afd = np.append(Afd,'Total')\n",
    "#print(Afd)\n",
    "\n",
    "fdf['Overafdeling'] = fdf['Overafdeling'].str.slice(0,27)\n",
    "afd = pd.unique(fdf['Overafdeling'])\n",
    "afd.sort()\n",
    "\n",
    "i=0\n",
    "antal =[]\n",
    "for x in afd:\n",
    "    xls = fdf.loc[fdf['Overafdeling'].str.contains(x)==True]\n",
    "    antal.append(len(xls))\n",
    "    i = i+len(xls)\n",
    "   # print(x[0:28], \"  \",len(xls))    \n",
    "#print(i)\n",
    "antal.append(i)\n",
    "\n",
    "StatusArk =pd.DataFrame(list(zip(Afd, antal)), columns =['Afdeling', 'Antal udstyr'])\n",
    "#StatusArk"
   ]
  },
  {
   "cell_type": "code",
   "execution_count": 21,
   "metadata": {},
   "outputs": [],
   "source": [
    "with pd.ExcelWriter('Filtreret_og_Opdelt.xlsx') as writer:\n",
    "    FilterInput.to_excel(writer, sheet_name='Opsumering',index = False)\n",
    "    gz.to_excel(writer, sheet_name='Opsumering',startrow = 6,startcol = 1,index = False)\n",
    "    StatusArk.to_excel(writer, sheet_name='Opsumering',startcol = 4, index = False)\n",
    "    \n",
    "    for x in afd:\n",
    "        xls = fdf.loc[fdf['Overafdeling'].str.contains(x)==True]\n",
    "        if len(xls)>0:\n",
    "            xls.to_excel(writer, sheet_name=x[0:27],index = False)"
   ]
  },
  {
   "cell_type": "code",
   "execution_count": 18,
   "metadata": {},
   "outputs": [],
   "source": [
    "#d = opgorelse(fdf, True)\n",
    "#d"
   ]
  },
  {
   "cell_type": "markdown",
   "metadata": {},
   "source": [
    "## Skriv det hele i et regneark"
   ]
  },
  {
   "cell_type": "code",
   "execution_count": 25,
   "metadata": {},
   "outputs": [],
   "source": [
    "with pd.ExcelWriter('Filtreret.xlsx') as writer:\n",
    "    \n",
    "    fdf.to_excel(writer,index = False)"
   ]
  },
  {
   "cell_type": "code",
   "execution_count": null,
   "metadata": {},
   "outputs": [],
   "source": []
  }
 ],
 "metadata": {
  "kernelspec": {
   "display_name": "Python 3",
   "language": "python",
   "name": "python3"
  },
  "language_info": {
   "codemirror_mode": {
    "name": "ipython",
    "version": 3
   },
   "file_extension": ".py",
   "mimetype": "text/x-python",
   "name": "python",
   "nbconvert_exporter": "python",
   "pygments_lexer": "ipython3",
   "version": "3.5.5"
  }
 },
 "nbformat": 4,
 "nbformat_minor": 2
}
