{
 "cells": [
  {
   "cell_type": "code",
   "execution_count": 1,
   "metadata": {},
   "outputs": [],
   "source": [
    "import pandas as pd\n",
    "import numpy as np\n",
    "import matplotlib.pyplot as plt"
   ]
  },
  {
   "cell_type": "markdown",
   "metadata": {},
   "source": [
    "# Definer variabler der bruges til at filtrere data med."
   ]
  },
  {
   "cell_type": "code",
   "execution_count": 2,
   "metadata": {},
   "outputs": [],
   "source": [
    "NB = pd.to_datetime('01-05-2023')#indflytningsdato for NordBlok NB md-dd-yyyy\n",
    "\n",
    "MA = 10 #Maksimal alder i år ved indflytningen\n",
    "\n",
    "NBMA = NB.replace(year=NB.year - MA)#dato for ælste udstyr der kan flyttes i NordBlokken\n",
    "\n",
    "BG = 5000 #BagatelGrænse for pris\n",
    "\n",
    "filtAfd = False #Skal der filterers på afdelinger\n",
    "\n",
    "EJER = 'Bispebjerg og Frederiksberg Hospital'\n",
    "#EJER = 'Nordsjællands Hospital'\n",
    "#print(NBMA)\n",
    "FilterInput = pd.DataFrame({'Filter funktion':['Ejer', 'Indflytnings dato', 'Udstyrets minimum alder [år]','Nyeste dato [dato]', 'Bagatelgrænse i kr', 'Ekskluderede grupper'],\n",
    "                           'Værdi': [EJER, NB, MA, NBMA, BG, 'nan']})"
   ]
  },
  {
   "cell_type": "markdown",
   "metadata": {},
   "source": [
    "# Læs data\n",
    "Først skal dataen fra Medusa læses ind, derefter skal data til filtereingen læses ind. Til slut tilpasses dataen inden filtereingen begynder."
   ]
  },
  {
   "cell_type": "code",
   "execution_count": 3,
   "metadata": {},
   "outputs": [],
   "source": [
    "#indlæs regneark med Meudsa udtræk.\n",
    "filename = ['BBH.xlsx','FRH.xlsx'] #'BBH+FRH 19-03-20.xlsx' #filnavn på Meudusa udtræk i excel\n",
    "\n",
    "filterIndput = 'filterIndput.xlsx' #Er en fil med input til filtrering, som er uafhængig af Medusa udtræk\n",
    "\n",
    "AFD = 'Afdelinger.xlsx' #Hvis vi vil sortere afdelinger ud, kan gøres vha dette regneark.\n",
    "filtAfd = False #Hvis der skal filteres på afdelinger, skal denne variable til True\n",
    "\n",
    "df = pd.DataFrame()\n",
    "for fil in filename:\n",
    "    df = pd.read_excel(fil).append(df,sort=False) # Medusa udtræk\n",
    "#df.info()"
   ]
  },
  {
   "cell_type": "code",
   "execution_count": 4,
   "metadata": {},
   "outputs": [],
   "source": [
    "#indlæs regnearket med filter betingelser\n",
    "gz = pd.read_excel(filterIndput, sheet_name='Gråzone') # Gråzone udstyr\n",
    "xmd = pd.read_excel(filterIndput, sheet_name='Xmodel') # Ekskluderete modeller"
   ]
  },
  {
   "cell_type": "code",
   "execution_count": 5,
   "metadata": {},
   "outputs": [],
   "source": [
    "#indlæs regneark hvor de afdelinger der skal med i kørslen er listet.\n",
    "aFd = pd.read_excel(AFD)\n",
    "#afd.head()"
   ]
  },
  {
   "cell_type": "markdown",
   "metadata": {},
   "source": [
    "### Tilpasninger på data"
   ]
  },
  {
   "cell_type": "code",
   "execution_count": 6,
   "metadata": {},
   "outputs": [],
   "source": [
    "#Tilpasninger til Medusadataen\n",
    "df['Indkøbt']= pd.to_datetime(df.Indkøbt)#konverter til datetime som Pandas kan regne på\n",
    "\n",
    "df[\"Pris\"] = df[[\"Indkøbspris\",\"Genansk.pris\"]].max(axis=1)# find den største værdi og sæt det ind i ny kolonne \"Pris\"\n",
    "#df.head()"
   ]
  },
  {
   "cell_type": "code",
   "execution_count": 7,
   "metadata": {},
   "outputs": [],
   "source": [
    "#Ejer kolonnen består af to dele, derfor splittes det op i to kolonner\n",
    "x = df['Ejer (overafdeling) 2'].str.split(\";\", n = 1, expand = True)\n",
    "df[\"Overafdeling\"] =x[0]\n",
    "df[\"Ejer\"] = x[1]     "
   ]
  },
  {
   "cell_type": "code",
   "execution_count": 8,
   "metadata": {},
   "outputs": [],
   "source": [
    "#Label kolonnen skal laves og fyldes med default værdier\n",
    "df['Label'] = 'Skal undersøges endividuelt'\n",
    "#df.head()\n",
    "#df.tail()"
   ]
  },
  {
   "cell_type": "code",
   "execution_count": 9,
   "metadata": {},
   "outputs": [],
   "source": [
    "#Det næste laver en liste over afdelinger og skriver det i et regneark - så vi kan vælge afdelinger ud som vi vil se nærmere på\n",
    "if 0: #behøver kun at køre én gang - ænder 0 til 1 \n",
    "    Afdl = pd.unique(df['Ejer (overafdeling) 2'])\n",
    "    afdl = pd.DataFrame(Afdl)\n",
    "    with pd.ExcelWriter('Afdelinger.xlsx') as writer:\n",
    "        afdl.to_excel(writer,index = False)"
   ]
  },
  {
   "cell_type": "markdown",
   "metadata": {},
   "source": [
    "# Så begynder filtereringen"
   ]
  },
  {
   "cell_type": "code",
   "execution_count": 10,
   "metadata": {},
   "outputs": [],
   "source": [
    "fdf = df.loc[df.Ejer.str.contains(EJER)== True] #filterer på Ejer\n",
    "if filtAfd:\n",
    "    fdf = fdf.loc[fdf.Overafdeling.isin(aFd['Afdeling'])] #filterer på afdeling\n",
    "#fdf.head()"
   ]
  },
  {
   "cell_type": "code",
   "execution_count": 11,
   "metadata": {},
   "outputs": [],
   "source": [
    "#fdf = fdf.loc[~fdf.Model.isin(xmd.Model),:] # fjern ekskluderede modeller\n",
    "#ffdf = fdf.loc[fdf.Model.isin(xmd.Model),:] # find ekskluderede modeller\n",
    "#print(len(ffdf))"
   ]
  },
  {
   "cell_type": "code",
   "execution_count": 12,
   "metadata": {},
   "outputs": [
    {
     "name": "stderr",
     "output_type": "stream",
     "text": [
      "C:\\Users\\bkri0025\\AppData\\Local\\Continuum\\anaconda3\\lib\\site-packages\\pandas\\core\\indexing.py:543: SettingWithCopyWarning: \n",
      "A value is trying to be set on a copy of a slice from a DataFrame.\n",
      "Try using .loc[row_indexer,col_indexer] = value instead\n",
      "\n",
      "See the caveats in the documentation: http://pandas.pydata.org/pandas-docs/stable/indexing.html#indexing-view-versus-copy\n",
      "  self.obj[item] = s\n"
     ]
    }
   ],
   "source": [
    "#filter på kategori 1 = genbrug\n",
    "filt1 = (fdf['Indkøbt'] > NBMA) & True #der kan sættes flere betingelser ind vha & eller |\n",
    "fdf.loc[filt1, 'Label'] = 'Genbruges og flyttes'  \n",
    "#fdf.head(10) #filtrer på alder"
   ]
  },
  {
   "cell_type": "code",
   "execution_count": 13,
   "metadata": {},
   "outputs": [
    {
     "name": "stderr",
     "output_type": "stream",
     "text": [
      "C:\\Users\\bkri0025\\AppData\\Local\\Continuum\\anaconda3\\lib\\site-packages\\pandas\\core\\indexing.py:543: SettingWithCopyWarning: \n",
      "A value is trying to be set on a copy of a slice from a DataFrame.\n",
      "Try using .loc[row_indexer,col_indexer] = value instead\n",
      "\n",
      "See the caveats in the documentation: http://pandas.pydata.org/pandas-docs/stable/indexing.html#indexing-view-versus-copy\n",
      "  self.obj[item] = s\n"
     ]
    },
    {
     "data": {
      "text/html": [
       "<div>\n",
       "<style scoped>\n",
       "    .dataframe tbody tr th:only-of-type {\n",
       "        vertical-align: middle;\n",
       "    }\n",
       "\n",
       "    .dataframe tbody tr th {\n",
       "        vertical-align: top;\n",
       "    }\n",
       "\n",
       "    .dataframe thead th {\n",
       "        text-align: right;\n",
       "    }\n",
       "</style>\n",
       "<table border=\"1\" class=\"dataframe\">\n",
       "  <thead>\n",
       "    <tr style=\"text-align: right;\">\n",
       "      <th></th>\n",
       "      <th>App.nr</th>\n",
       "      <th>Gruppenavn</th>\n",
       "      <th>Fabrikat</th>\n",
       "      <th>Model</th>\n",
       "      <th>Indkøbspris</th>\n",
       "      <th>Genansk.pris</th>\n",
       "      <th>Indkøbt</th>\n",
       "      <th>Ejer (overafdeling)</th>\n",
       "      <th>Ejer (overafdeling) 2</th>\n",
       "      <th>Afdeling (placering)</th>\n",
       "      <th>Afsnit (Placering)</th>\n",
       "      <th>Pris</th>\n",
       "      <th>Overafdeling</th>\n",
       "      <th>Ejer</th>\n",
       "      <th>Label</th>\n",
       "    </tr>\n",
       "  </thead>\n",
       "  <tbody>\n",
       "    <tr>\n",
       "      <th>0</th>\n",
       "      <td>19657</td>\n",
       "      <td>Litotripsisystem, ultralyd</td>\n",
       "      <td>EMS</td>\n",
       "      <td>LithoClast Master</td>\n",
       "      <td>0.0</td>\n",
       "      <td>240000.0</td>\n",
       "      <td>2015-11-17</td>\n",
       "      <td>Centraloperationsgang, FRH</td>\n",
       "      <td>Centraloperationsgang, FRH; Bispebjerg og Fred...</td>\n",
       "      <td>Urologisk afdeling U, FRH</td>\n",
       "      <td>Centraloperationsgang Urologi, FRH; Urologisk ...</td>\n",
       "      <td>240000.0</td>\n",
       "      <td>Centraloperationsgang, FRH</td>\n",
       "      <td>Bispebjerg og Frederiksberg Hospital</td>\n",
       "      <td>Genbruges og flyttes</td>\n",
       "    </tr>\n",
       "    <tr>\n",
       "      <th>1</th>\n",
       "      <td>32084</td>\n",
       "      <td>Termometer, øre, infrarød</td>\n",
       "      <td>Braun</td>\n",
       "      <td>ThermoScan Pro 4000</td>\n",
       "      <td>875.0</td>\n",
       "      <td>875.0</td>\n",
       "      <td>2013-07-18</td>\n",
       "      <td>Medicinsk og Geriatrisk Overafdeling, FRH</td>\n",
       "      <td>Medicinsk og Geriatrisk Overafdeling, FRH ; Bi...</td>\n",
       "      <td>AMA., Akut modtageafdeling AKM</td>\n",
       "      <td>MMA3, Medicinsk Modtageafsnit 3 ; AMA Akutmodt...</td>\n",
       "      <td>875.0</td>\n",
       "      <td>Medicinsk og Geriatrisk Overafdeling, FRH</td>\n",
       "      <td>Bispebjerg og Frederiksberg Hospital</td>\n",
       "      <td>Afdelingen har selv budget</td>\n",
       "    </tr>\n",
       "    <tr>\n",
       "      <th>3</th>\n",
       "      <td>32067</td>\n",
       "      <td>Termometer, øre, infrarød</td>\n",
       "      <td>Braun</td>\n",
       "      <td>ThermoScan Pro 4000</td>\n",
       "      <td>875.0</td>\n",
       "      <td>875.0</td>\n",
       "      <td>2013-07-30</td>\n",
       "      <td>Medicinsk og Geriatrisk Overafdeling, FRH</td>\n",
       "      <td>Medicinsk og Geriatrisk Overafdeling, FRH ; Bi...</td>\n",
       "      <td>AMA., Akut modtageafdeling AKM</td>\n",
       "      <td>MMA3, Medicinsk Modtageafsnit 3 ; AMA Akutmodt...</td>\n",
       "      <td>875.0</td>\n",
       "      <td>Medicinsk og Geriatrisk Overafdeling, FRH</td>\n",
       "      <td>Bispebjerg og Frederiksberg Hospital</td>\n",
       "      <td>Afdelingen har selv budget</td>\n",
       "    </tr>\n",
       "    <tr>\n",
       "      <th>4</th>\n",
       "      <td>1087697</td>\n",
       "      <td>Patientvægt, gulv, elektronisk</td>\n",
       "      <td>Tanita</td>\n",
       "      <td>WB-110</td>\n",
       "      <td>5000.0</td>\n",
       "      <td>5000.0</td>\n",
       "      <td>2013-07-31</td>\n",
       "      <td>Medicinsk og Geriatrisk Overafdeling, FRH</td>\n",
       "      <td>Medicinsk og Geriatrisk Overafdeling, FRH ; Bi...</td>\n",
       "      <td>AMA., Akut modtageafdeling AKM</td>\n",
       "      <td>MMA3, Medicinsk Modtageafsnit 3 ; AMA Akutmodt...</td>\n",
       "      <td>5000.0</td>\n",
       "      <td>Medicinsk og Geriatrisk Overafdeling, FRH</td>\n",
       "      <td>Bispebjerg og Frederiksberg Hospital</td>\n",
       "      <td>Genbruges og flyttes</td>\n",
       "    </tr>\n",
       "    <tr>\n",
       "      <th>5</th>\n",
       "      <td>32054</td>\n",
       "      <td>Termometer, øre, infrarød</td>\n",
       "      <td>Braun</td>\n",
       "      <td>ThermoScan Pro 4000</td>\n",
       "      <td>875.0</td>\n",
       "      <td>875.0</td>\n",
       "      <td>2013-08-13</td>\n",
       "      <td>Ortopædkirurgisk afdeling O, FRH</td>\n",
       "      <td>Ortopædkirurgisk afdeling O, FRH; Bispebjerg o...</td>\n",
       "      <td>Ortopædkirurgisk afdeling O, FRH</td>\n",
       "      <td>Ortopædkirurgisk Sengeafsnit, FRH; Ortopædkiru...</td>\n",
       "      <td>875.0</td>\n",
       "      <td>Ortopædkirurgisk afdeling O, FRH</td>\n",
       "      <td>Bispebjerg og Frederiksberg Hospital</td>\n",
       "      <td>Afdelingen har selv budget</td>\n",
       "    </tr>\n",
       "  </tbody>\n",
       "</table>\n",
       "</div>"
      ],
      "text/plain": [
       "    App.nr                      Gruppenavn Fabrikat                Model  \\\n",
       "0    19657      Litotripsisystem, ultralyd      EMS    LithoClast Master   \n",
       "1    32084       Termometer, øre, infrarød    Braun  ThermoScan Pro 4000   \n",
       "3    32067       Termometer, øre, infrarød    Braun  ThermoScan Pro 4000   \n",
       "4  1087697  Patientvægt, gulv, elektronisk   Tanita               WB-110   \n",
       "5    32054       Termometer, øre, infrarød    Braun  ThermoScan Pro 4000   \n",
       "\n",
       "   Indkøbspris  Genansk.pris    Indkøbt  \\\n",
       "0          0.0      240000.0 2015-11-17   \n",
       "1        875.0         875.0 2013-07-18   \n",
       "3        875.0         875.0 2013-07-30   \n",
       "4       5000.0        5000.0 2013-07-31   \n",
       "5        875.0         875.0 2013-08-13   \n",
       "\n",
       "                         Ejer (overafdeling)  \\\n",
       "0                 Centraloperationsgang, FRH   \n",
       "1  Medicinsk og Geriatrisk Overafdeling, FRH   \n",
       "3  Medicinsk og Geriatrisk Overafdeling, FRH   \n",
       "4  Medicinsk og Geriatrisk Overafdeling, FRH   \n",
       "5           Ortopædkirurgisk afdeling O, FRH   \n",
       "\n",
       "                               Ejer (overafdeling) 2  \\\n",
       "0  Centraloperationsgang, FRH; Bispebjerg og Fred...   \n",
       "1  Medicinsk og Geriatrisk Overafdeling, FRH ; Bi...   \n",
       "3  Medicinsk og Geriatrisk Overafdeling, FRH ; Bi...   \n",
       "4  Medicinsk og Geriatrisk Overafdeling, FRH ; Bi...   \n",
       "5  Ortopædkirurgisk afdeling O, FRH; Bispebjerg o...   \n",
       "\n",
       "               Afdeling (placering)  \\\n",
       "0         Urologisk afdeling U, FRH   \n",
       "1    AMA., Akut modtageafdeling AKM   \n",
       "3    AMA., Akut modtageafdeling AKM   \n",
       "4    AMA., Akut modtageafdeling AKM   \n",
       "5  Ortopædkirurgisk afdeling O, FRH   \n",
       "\n",
       "                                  Afsnit (Placering)      Pris  \\\n",
       "0  Centraloperationsgang Urologi, FRH; Urologisk ...  240000.0   \n",
       "1  MMA3, Medicinsk Modtageafsnit 3 ; AMA Akutmodt...     875.0   \n",
       "3  MMA3, Medicinsk Modtageafsnit 3 ; AMA Akutmodt...     875.0   \n",
       "4  MMA3, Medicinsk Modtageafsnit 3 ; AMA Akutmodt...    5000.0   \n",
       "5  Ortopædkirurgisk Sengeafsnit, FRH; Ortopædkiru...     875.0   \n",
       "\n",
       "                                 Overafdeling  \\\n",
       "0                  Centraloperationsgang, FRH   \n",
       "1  Medicinsk og Geriatrisk Overafdeling, FRH    \n",
       "3  Medicinsk og Geriatrisk Overafdeling, FRH    \n",
       "4  Medicinsk og Geriatrisk Overafdeling, FRH    \n",
       "5            Ortopædkirurgisk afdeling O, FRH   \n",
       "\n",
       "                                    Ejer                       Label  \n",
       "0   Bispebjerg og Frederiksberg Hospital        Genbruges og flyttes  \n",
       "1   Bispebjerg og Frederiksberg Hospital  Afdelingen har selv budget  \n",
       "3   Bispebjerg og Frederiksberg Hospital  Afdelingen har selv budget  \n",
       "4   Bispebjerg og Frederiksberg Hospital        Genbruges og flyttes  \n",
       "5   Bispebjerg og Frederiksberg Hospital  Afdelingen har selv budget  "
      ]
     },
     "execution_count": 13,
     "metadata": {},
     "output_type": "execute_result"
    }
   ],
   "source": [
    "#filter på kategori 2 = budget\n",
    "filt2= (fdf['Pris'] < BG) & True #der kan sættes flere betingelser ind vha & eller |\n",
    "fdf.loc[filt2,'Label'] = 'Afdelingen har selv budget' \n",
    "fdf.head() #filtrer på pris"
   ]
  },
  {
   "cell_type": "code",
   "execution_count": 14,
   "metadata": {},
   "outputs": [],
   "source": [
    "fdf = fdf.loc[~fdf.Gruppenavn.isin(gz.Gruppenavn)] #fjern gråzone udstyr"
   ]
  },
  {
   "cell_type": "code",
   "execution_count": 15,
   "metadata": {},
   "outputs": [],
   "source": [
    "fdf = fdf.drop(['Indkøbspris', 'Genansk.pris', 'Ejer (overafdeling)'], axis=1)"
   ]
  },
  {
   "cell_type": "code",
   "execution_count": 16,
   "metadata": {},
   "outputs": [],
   "source": [
    "#cols = fdf.columns.tolist()\n",
    "#print(cols)"
   ]
  },
  {
   "cell_type": "code",
   "execution_count": 17,
   "metadata": {},
   "outputs": [],
   "source": [
    "cols = ['App.nr', 'Gruppenavn', 'Fabrikat', 'Model', 'Label', 'Indkøbt', 'Pris', 'Overafdeling', 'Afdeling (placering)', 'Afsnit (Placering)', 'Ejer']\n",
    "fdf = fdf[cols]"
   ]
  },
  {
   "cell_type": "code",
   "execution_count": 18,
   "metadata": {},
   "outputs": [],
   "source": [
    "fdf = fdf.sort_values(by=['Gruppenavn','Indkøbt'])#sorter på gruppenavn og indkøbsdato\n",
    "#fdf.info()"
   ]
  },
  {
   "cell_type": "markdown",
   "metadata": {},
   "source": [
    "# Opdeling i afdelinger"
   ]
  },
  {
   "cell_type": "code",
   "execution_count": 19,
   "metadata": {},
   "outputs": [],
   "source": [
    "Afd = pd.unique(fdf['Overafdeling'])\n",
    "Afd.sort()\n",
    "\n",
    "#print(Afd)\n",
    "\n",
    "fdf['Overafdeling'] = fdf['Overafdeling'].str.slice(0,27)\n",
    "afd = pd.unique(fdf['Overafdeling'])\n",
    "afd.sort()\n",
    "\n",
    "i=0\n",
    "antal =[]\n",
    "pris =[]\n",
    "for x in afd:\n",
    "    xls = fdf.loc[fdf['Overafdeling'].str.contains(x)==True]\n",
    "    antal.append(len(xls)) # find antal udstyr i afdelingen\n",
    "    pris.append(xls['Pris'].sum()) # find den samlede værdi af udstyret \n",
    "    i = i+len(xls)\n",
    "   # print(x[0:28], \"  \",len(xls))    \n",
    "#print(i) #opsummetet antal\n",
    "#antal\n",
    "StatusArk =pd.DataFrame(list(zip(Afd, antal, pris)), columns =['Afdeling', 'Antal udstyr', 'Værdi'])\n",
    "#StatusArk"
   ]
  },
  {
   "cell_type": "code",
   "execution_count": 20,
   "metadata": {},
   "outputs": [],
   "source": [
    "Grupper = pd.DataFrame(fdf.groupby(['Overafdeling', 'Gruppenavn'])['Gruppenavn'].count())\n",
    "#Grupper.unstack()"
   ]
  },
  {
   "cell_type": "code",
   "execution_count": 21,
   "metadata": {},
   "outputs": [],
   "source": [
    "with pd.ExcelWriter('Udstyr med labeler opdelt.xlsx') as writer:\n",
    "    FilterInput.to_excel(writer, sheet_name='Opsumering',index = False)\n",
    "    gz.to_excel(writer, sheet_name='Opsumering',startrow = 6,startcol = 1,index = False)\n",
    "    StatusArk.to_excel(writer, sheet_name='Opsumering',startcol = 4, index = False)\n",
    "    Grupper.to_excel(writer, sheet_name='Udstyrstyper i afdelingerne',index = True)\n",
    "    Grupper.unstack().to_excel(writer, sheet_name='Udstyrstyper i afdelingerne', startcol = 5,index = True)\n",
    "    \n",
    "    for x in afd:\n",
    "        xls = fdf.loc[fdf['Overafdeling'].str.contains(x)==True]\n",
    "        if len(xls)>0:\n",
    "            xls.to_excel(writer, sheet_name=x[0:27],index = False)"
   ]
  },
  {
   "cell_type": "markdown",
   "metadata": {},
   "source": [
    "# Skriv det hele i et regneark"
   ]
  },
  {
   "cell_type": "code",
   "execution_count": 22,
   "metadata": {},
   "outputs": [],
   "source": [
    "with pd.ExcelWriter('Udstyr med labeler.xlsx') as writer:\n",
    "    \n",
    "    fdf.to_excel(writer,index = False)"
   ]
  },
  {
   "cell_type": "code",
   "execution_count": null,
   "metadata": {},
   "outputs": [],
   "source": []
  },
  {
   "cell_type": "code",
   "execution_count": null,
   "metadata": {},
   "outputs": [],
   "source": []
  }
 ],
 "metadata": {
  "kernelspec": {
   "display_name": "Python 3",
   "language": "python",
   "name": "python3"
  },
  "language_info": {
   "codemirror_mode": {
    "name": "ipython",
    "version": 3
   },
   "file_extension": ".py",
   "mimetype": "text/x-python",
   "name": "python",
   "nbconvert_exporter": "python",
   "pygments_lexer": "ipython3",
   "version": "3.5.5"
  }
 },
 "nbformat": 4,
 "nbformat_minor": 2
}
