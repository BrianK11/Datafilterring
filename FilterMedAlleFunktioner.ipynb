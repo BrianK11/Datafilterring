{
 "cells": [
  {
   "cell_type": "markdown",
   "metadata": {},
   "source": [
    "# Dette script laver oplæg til Genbrug og Brutto"
   ]
  },
  {
   "cell_type": "code",
   "execution_count": 1,
   "metadata": {},
   "outputs": [],
   "source": [
    "import pandas as pd\n",
    "import numpy as np\n",
    "import matplotlib.pyplot as plt"
   ]
  },
  {
   "cell_type": "markdown",
   "metadata": {},
   "source": [
    "# Definer variabler der bruges til at filtrere data med."
   ]
  },
  {
   "cell_type": "code",
   "execution_count": 2,
   "metadata": {},
   "outputs": [],
   "source": [
    "#Hvad skal resultatet være Alt (0), Flytning (1) eller Genanskaffelse (2) Special case (3)\n",
    "res = 0\n",
    "\n",
    "#Hvilke faser skal der filterers på første fase (1) anden fase (2) tredie fase/rokade (3) Special case (4)\n",
    "etape = 4\n",
    "\n",
    "#Ønskes det to resultat filer, en opdelt og en ikke opdelt eller kun en opdelt fil\n",
    "toFiler = True\n",
    "\n",
    "#Indflytningsdato for den givne fase (NB) md-dd-yyyy\n",
    "f1 = pd.to_datetime('01-05-2023')\n",
    "f2 = pd.to_datetime('01-09-2024')\n",
    "f3 = pd.to_datetime('01-03-2025')\n",
    "\n",
    "if etape == 1:\n",
    "    NB = f1\n",
    "    EN = 'Fase1'\n",
    "elif etape == 2:\n",
    "    NB = f2\n",
    "    EN = 'Fase2'\n",
    "elif etape == 3:\n",
    "    NB = f3\n",
    "    EN = 'Rokade'\n",
    "elif etape == 4:\n",
    "    NB = f3\n",
    "    EN = 'Special'\n",
    "    \n",
    "#Maksimal alder (MA) i år ved indflytningen (hvis man vil have alt med (Brutto), sæt MA = 100)\n",
    "if res == 0:\n",
    "    MA = 100\n",
    "else:\n",
    "    MA = 10\n",
    "\n",
    "#Dato for ælste udstyr der kan flyttes i NordBlokken (NordBlok Max Alder: NBMA)\n",
    "NBMA = NB.replace(year=NB.year - MA)\n",
    "\n",
    "#BagatelGrænse for pris (BG)\n",
    "BG = 0 #3000 #100000 \n",
    "\n",
    "#Skal der filterers på afdelinger (True/False)\n",
    "filtAfd = True\n",
    "\n",
    "#Skal der filterers på afsnit (True/False)\n",
    "filtAfs = False\n",
    "\n",
    "#Skal der filterers på Gråzone (True/False)  \n",
    "grZ = True\n",
    "\n",
    "#Skal der filterers på ekskluderede modeller 0=nej, 1=fjern, 2=find kun ekskluderede modeller\n",
    "xModel = 0\n",
    "\n",
    "#Skal der filterers på BIP(True/False)\n",
    "BIP = False\n",
    "\n",
    "#Skal der filterers på max af genanskaffelsespris og indkøbspris (True) ELLER kun indkøbspris (False)\n",
    "pris = True\n",
    "\n",
    "\n",
    "\n",
    "\n",
    "EJER = 'Bispebjerg og Frederiksberg Hospital'\n",
    "#EJER = 'Nordsjællands Hospital'\n",
    "if res == 0:\n",
    "    filtrering =  'Alt'\n",
    "elif res == 1:\n",
    "    filtrering =  'Flytning'\n",
    "elif res == 2:\n",
    "    filtrering = 'Genanskaffelse'\n",
    "elif res == 3:\n",
    "    filtrering = 'Case'\n",
    "    mrke = True\n",
    "    toFiler = True\n",
    "\n",
    "filNavn = EN + '_' + filtrering"
   ]
  },
  {
   "cell_type": "code",
   "execution_count": 3,
   "metadata": {},
   "outputs": [],
   "source": [
    "FilterInput = pd.DataFrame({'Filter funktion':['Type filtrering','Etape/Fase','Ejer', 'Indflytnings dato', 'Udstyrets minimum alder [år]','Ælste dato [dato]', 'Bagatelgrænse i kr', 'Ekskluderede grupper'],\n",
    "                           'Værdi': [filtrering,EN, EJER, NB, MA, NBMA, BG, 'nan']})"
   ]
  },
  {
   "cell_type": "code",
   "execution_count": 4,
   "metadata": {},
   "outputs": [],
   "source": [
    "aar=[]\n",
    "for i in range(4,24):\n",
    "    aar.append(NB.replace(year=NB.year - i)) #Laver en liste med datoer i som kan bruges til filtrering eller til at\n",
    "                                            #lave en oversigt over værdi af udstyr\n",
    "#print(aar)"
   ]
  },
  {
   "cell_type": "markdown",
   "metadata": {},
   "source": [
    "# Læs data\n",
    "I der følgende indlæses data og arangeres i dataframes for at gøre det nemmere at analysere på fremad."
   ]
  },
  {
   "cell_type": "code",
   "execution_count": 5,
   "metadata": {},
   "outputs": [],
   "source": [
    "#filnavn(e) på excelark med Meudusa udtræk\n",
    "filename = ['BBH.xlsx','FRH.xlsx'] \n",
    "\n",
    "#Er en fil med input til filtrering, som er uafhængig af Medusa udtræk\n",
    "filterIndput = 'filterIndput.xlsx' \n",
    "\n",
    "#Hvis vi vil sortere afdelinger ud, kan gøres vha dette regneark.\n",
    "AFD = 'Afdelinger.xlsx' \n",
    "\n",
    "df = pd.DataFrame()\n",
    "for fil in filename:\n",
    "    df = pd.read_excel(fil).append(df,sort=True) # Indlæs Medusa udtræk\n",
    "#df.info()"
   ]
  },
  {
   "cell_type": "code",
   "execution_count": 6,
   "metadata": {},
   "outputs": [],
   "source": [
    "if grZ:\n",
    "    gz = pd.read_excel(filterIndput, sheet_name='Gråzone') # Indlæs Gråzone udstyr\n",
    "\n",
    "if xModel:\n",
    "    xmd = pd.read_excel(filterIndput, sheet_name='Xmodel') # Indlæs Ekskluderete modeller\n",
    "    \n",
    "if BIP:\n",
    "    bip = pd.read_excel(filterIndput, sheet_name='BIP') # Indlæs BIP udstyr\n",
    "    \n",
    "if filtAfd:\n",
    "    aFd = pd.read_excel(AFD, sheet_name='Afdelinger')\n",
    "    if filtAfs:\n",
    "        if etape == 1:\n",
    "            F1 = pd.read_excel(AFD, sheet_name='Fase 1')\n",
    "            fase = F1['Afsnit']\n",
    "        elif etape == 2:\n",
    "            F2 = pd.read_excel(AFD, sheet_name='Fase 2')\n",
    "            fase = F2['Afsnit']\n",
    "        elif etape == 3:\n",
    "            Ro = pd.read_excel(AFD, sheet_name='Rokade')\n",
    "            fase = Ro['Afsnit']\n",
    "#afd.head()"
   ]
  },
  {
   "cell_type": "code",
   "execution_count": 7,
   "metadata": {},
   "outputs": [],
   "source": [
    "#Tilpasninger\n",
    "df['Indkøbt']= pd.to_datetime(df.Indkøbt)#konverter til datetime som Pandas kan regne på\n",
    "if pris:\n",
    "    df[\"Budget_Pris\"] = df[[\"Indkøbspris\",\"Genansk.pris\"]].max(axis=1)# find den største værdi og sæt det ind i ny kollonde \"Pris\"\n",
    "else:\n",
    "    df['Budget_Pris'] = df['Indkøbspris']\n",
    "    #df.head()"
   ]
  },
  {
   "cell_type": "code",
   "execution_count": 8,
   "metadata": {},
   "outputs": [],
   "source": [
    "#Det næste laver en liste over afdelinger og skriver det i et regneark - så vi kan vælge afdelinger ud som vi vil se nærmere på\n",
    "if 0: #behøver kun at køre én gang - ænder 0 til 1 \n",
    "    Afdl = pd.unique(df['Ejer (overafdeling) 2'])\n",
    "    #Afs = pd.unique(df['Afsnit (Placering)'])\n",
    "    afdl = pd.DataFrame(Afdl)\n",
    "    with pd.ExcelWriter('Afdelinger.xlsx') as writer:\n",
    "        afdl.to_excel(writer,index = False)"
   ]
  },
  {
   "cell_type": "markdown",
   "metadata": {},
   "source": [
    "# Så begynder filtereringen"
   ]
  },
  {
   "cell_type": "code",
   "execution_count": 9,
   "metadata": {},
   "outputs": [],
   "source": [
    "x = df['Ejer (overafdeling) 2'].str.split(\";\", n = 1, expand = True)\n",
    "df[\"Overafdeling\"] =x[0]\n",
    "df[\"Ejer\"] = x[1]     "
   ]
  },
  {
   "cell_type": "code",
   "execution_count": 10,
   "metadata": {},
   "outputs": [],
   "source": [
    "#Filterer på Ejer\n",
    "fdf = df.loc[df.Ejer.str.contains(EJER)== True] \n",
    "\n",
    "#Filterer eventuelt på afdeling\n",
    "if filtAfd:\n",
    "    fdf = fdf.loc[fdf.Overafdeling.isin(aFd['Afdeling'])] \n",
    "if filtAfs:\n",
    "    fdf = fdf.loc[fdf['Afsnit (Placering)'].isin(fase)] \n",
    "#fdf.head()"
   ]
  },
  {
   "cell_type": "markdown",
   "metadata": {},
   "source": [
    "## Værdi for udstyr\n",
    "For at kunne komme frem til et budget vil det være smart at kunne få et overblik over hvad fx alder på udstyret har af betydning for budgettet. Derfor laves der en samlet prissum pr alder. "
   ]
  },
  {
   "cell_type": "code",
   "execution_count": 11,
   "metadata": {},
   "outputs": [],
   "source": [
    "bg =[]\n",
    "for i in range(len(aar)):\n",
    "    bg.append(fdf.loc[fdf.Indkøbt >= aar[i], \"Budget_Pris\"].sum()) #Her bruges den filtrerede dataframe fdf, \n",
    "                                                            #for at få alle med skal man bruge dataframe df \n",
    "#plt.plot(aar,bg, '^') #simpel plot\n",
    "\n",
    "oversigt = pd.DataFrame({'Årstal': aar, 'Værdi':bg}) # Lav oversigten til en dataframe\n",
    "#oversigt.plot( x='Årstal',y='Værdi')\n",
    "#oversigt"
   ]
  },
  {
   "cell_type": "code",
   "execution_count": 12,
   "metadata": {},
   "outputs": [],
   "source": [
    "#Hvis der er brug for at fjerne eller finde specifikke modeller bruges denne celle\n",
    "if xModel == 1:\n",
    "    fdf = fdf.loc[~fdf.Model.isin(xmd.Model),:] # fjern ekskluderede modeller\n",
    "elif xModel == 2:\n",
    "    fdf = fdf.loc[fdf.Model.isin(xmd.Model),:] # find ekskluderede modeller\n",
    "elif xModel == 0:\n",
    "    pass\n",
    "#print(len(ffdf))"
   ]
  },
  {
   "cell_type": "code",
   "execution_count": 13,
   "metadata": {},
   "outputs": [],
   "source": [
    "#Filtrer på alder\n",
    "if res ==1:\n",
    "    fdf = fdf.loc[fdf.Indkøbt > NBMA,:] \n",
    "elif res == 2:\n",
    "    fdf = fdf.loc[fdf.Indkøbt < NBMA,:]\n",
    "elif res == 0 | res == 3:\n",
    "    pass\n",
    "    #fdf.head()"
   ]
  },
  {
   "cell_type": "code",
   "execution_count": 14,
   "metadata": {},
   "outputs": [
    {
     "name": "stdout",
     "output_type": "stream",
     "text": [
      "3383\n"
     ]
    }
   ],
   "source": [
    "#Filtrer på pris\n",
    "fdf =fdf.loc[fdf.Budget_Pris > BG,:] #maksimale pris bruges i sammenligningen\n",
    "\n",
    "#fdf.head()\n",
    "print(len(fdf))"
   ]
  },
  {
   "cell_type": "code",
   "execution_count": 15,
   "metadata": {},
   "outputs": [],
   "source": [
    "#Fjern BIP udstyr\n",
    "if BIP:\n",
    "    fdf = fdf.loc[~fdf.Gruppenavn.isin(bip.Gruppenavn)] \n",
    "    print(len(fdf))"
   ]
  },
  {
   "cell_type": "code",
   "execution_count": 16,
   "metadata": {},
   "outputs": [
    {
     "name": "stdout",
     "output_type": "stream",
     "text": [
      "2538\n"
     ]
    }
   ],
   "source": [
    "#Fjern gråzone udstyr\n",
    "if grZ:\n",
    "    fdf = fdf.loc[~fdf.Gruppenavn.isin(gz.Gruppenavn)] \n",
    "    print(len(fdf))"
   ]
  },
  {
   "cell_type": "code",
   "execution_count": 17,
   "metadata": {},
   "outputs": [],
   "source": [
    "#Lidt oprydning\n",
    "#OBS \"Ejer (overafdeling)\" kan have skiftet navn til \"Afdeling (Ejer (overafdeling))\" ret i excel!!!!\n",
    "fdf = fdf.drop(['Indkøbspris', 'Genansk.pris', 'Afdeling (Ejer (overafdeling))'], axis=1)"
   ]
  },
  {
   "cell_type": "code",
   "execution_count": 18,
   "metadata": {},
   "outputs": [],
   "source": [
    "#cols = fdf.columns.tolist()\n",
    "#print(cols)"
   ]
  },
  {
   "cell_type": "code",
   "execution_count": 19,
   "metadata": {},
   "outputs": [],
   "source": [
    "cols = ['App.nr', 'Gruppenavn', 'Fabrikat', 'Model', 'Indkøbt', 'Budget_Pris', 'Overafdeling', 'Afdeling (Placering)', 'Afsnit (Placering)', 'Ejer']\n",
    "fdf = fdf[cols]"
   ]
  },
  {
   "cell_type": "code",
   "execution_count": 20,
   "metadata": {},
   "outputs": [],
   "source": [
    "#Sorter på gruppenavn og indkøbsdato\n",
    "fdf = fdf.sort_values(by=['Gruppenavn','Indkøbt'])\n",
    "#fdf.info()"
   ]
  },
  {
   "cell_type": "markdown",
   "metadata": {},
   "source": [
    "# Opdeling i afdelinger"
   ]
  },
  {
   "cell_type": "code",
   "execution_count": 21,
   "metadata": {},
   "outputs": [],
   "source": [
    "Afd = pd.unique(fdf['Overafdeling'])\n",
    "Afd.sort()\n",
    "\n",
    "#print(Afd)\n",
    "\n",
    "fdf['Overafdeling'] = fdf['Overafdeling'].str.slice(0,27)\n",
    "afd = pd.unique(fdf['Overafdeling'])\n",
    "afd.sort()\n",
    "\n",
    "i=0\n",
    "antal =[]\n",
    "pris =[]\n",
    "for x in afd:\n",
    "    xls = fdf.loc[fdf['Overafdeling'].str.contains(x)==True]\n",
    "    antal.append(len(xls)) # find antal udstyr i afdelingen\n",
    "    pris.append(xls['Budget_Pris'].sum()) # find den samlede værdi af udstyret \n",
    "    i = i+len(xls)\n",
    "   # print(x[0:28], \"  \",len(xls))    \n",
    "#print(i) #opsummetet antal\n",
    "#antal\n",
    "StatusArk =pd.DataFrame(list(zip(Afd, antal, pris)), columns =['Afdeling', 'Antal udstyr', 'Værdi'])\n",
    "#StatusArk"
   ]
  },
  {
   "cell_type": "code",
   "execution_count": 22,
   "metadata": {},
   "outputs": [],
   "source": [
    "Grupper = pd.DataFrame(fdf.groupby(['Overafdeling', 'Gruppenavn'])['Gruppenavn'].count())\n",
    "#Grupper.unstack()"
   ]
  },
  {
   "cell_type": "code",
   "execution_count": 23,
   "metadata": {},
   "outputs": [],
   "source": [
    "with pd.ExcelWriter(filNavn + '_Opdelt.xlsx') as writer:\n",
    "    FilterInput.to_excel(writer, sheet_name='Opsumering',index = False)\n",
    "    gz.to_excel(writer, sheet_name='Opsumering',startrow = 8,startcol = 1,index = False)\n",
    "    StatusArk.to_excel(writer, sheet_name='Opsumering',startcol = 4, index = False)\n",
    "    Grupper.to_excel(writer, sheet_name='Udstyrstyper i afdelingerne',index = True)\n",
    "    Grupper.unstack().to_excel(writer, sheet_name='Udstyrstyper i afdelingerne', startcol = 5,index = True)\n",
    "    \n",
    "    for x in afd:\n",
    "        xls = fdf.loc[fdf['Overafdeling'].str.contains(x)==True]\n",
    "        if len(xls)>0:\n",
    "            xls.to_excel(writer, sheet_name=x[0:27],index = False)"
   ]
  },
  {
   "cell_type": "markdown",
   "metadata": {},
   "source": [
    "# Skriv det hele i et regneark"
   ]
  },
  {
   "cell_type": "code",
   "execution_count": 24,
   "metadata": {},
   "outputs": [],
   "source": [
    "#print(f1)\n",
    "#print(f2)\n",
    "#print(f3)\n",
    "mrke = False\n",
    "if mrke:\n",
    "    fdf = fdf.copy()\n",
    "    f1 = f1.replace(year=f1.year - MA)\n",
    "    f2 = f2.replace(year=f2.year - MA)\n",
    "    f3 = f3.replace(year=f3.year - MA)\n",
    "    fdf['Label'] = 'Ældre end ' + str(MA) + ' år' \n",
    "    \n",
    "    #print(f1)\n",
    "    #print(f2)\n",
    "    #print(f3)\n",
    "    \n",
    "    filt1 = (fdf['Indkøbt'] > f1) #der kan sættes flere betingelser ind vha & eller |\n",
    "    fdf.loc[filt1, 'Label'] = 'Fase 1'\n",
    "    \n",
    "    filt2 = (fdf['Indkøbt'] > f2) #der kan sættes flere betingelser ind vha & eller |\n",
    "    fdf.loc[filt2, 'Label'] = 'Fase 2'\n",
    "    \n",
    "    filt3 = (fdf['Indkøbt'] > f3) #der kan sættes flere betingelser ind vha & eller |\n",
    "    fdf.loc[filt3, 'Label'] = 'Fase 3'"
   ]
  },
  {
   "cell_type": "code",
   "execution_count": 25,
   "metadata": {},
   "outputs": [],
   "source": [
    "if toFiler:\n",
    "    with pd.ExcelWriter(filNavn + '.xlsx') as writer:\n",
    "        fdf.to_excel(writer,index = False)"
   ]
  },
  {
   "cell_type": "code",
   "execution_count": null,
   "metadata": {},
   "outputs": [],
   "source": []
  },
  {
   "cell_type": "code",
   "execution_count": null,
   "metadata": {},
   "outputs": [],
   "source": []
  }
 ],
 "metadata": {
  "kernelspec": {
   "display_name": "Python 3",
   "language": "python",
   "name": "python3"
  },
  "language_info": {
   "codemirror_mode": {
    "name": "ipython",
    "version": 3
   },
   "file_extension": ".py",
   "mimetype": "text/x-python",
   "name": "python",
   "nbconvert_exporter": "python",
   "pygments_lexer": "ipython3",
   "version": "3.5.5"
  }
 },
 "nbformat": 4,
 "nbformat_minor": 2
}
